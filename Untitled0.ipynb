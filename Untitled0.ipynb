{
  "nbformat": 4,
  "nbformat_minor": 0,
  "metadata": {
    "colab": {
      "provenance": [],
      "authorship_tag": "ABX9TyPUjgTwBfCtw/RQ1POv//vA",
      "include_colab_link": true
    },
    "kernelspec": {
      "name": "python3",
      "display_name": "Python 3"
    },
    "language_info": {
      "name": "python"
    }
  },
  "cells": [
    {
      "cell_type": "markdown",
      "metadata": {
        "id": "view-in-github",
        "colab_type": "text"
      },
      "source": [
        "<a href=\"https://colab.research.google.com/github/BELYJH/MACHINE_LEARNING_DATA_SCI/blob/rama_M_D_SCIENTIST/Untitled0.ipynb\" target=\"_parent\"><img src=\"https://colab.research.google.com/assets/colab-badge.svg\" alt=\"Open In Colab\"/></a>"
      ]
    },
    {
      "cell_type": "code",
      "execution_count": 12,
      "metadata": {
        "colab": {
          "base_uri": "https://localhost:8080/"
        },
        "id": "PgfKtojhQZZV",
        "outputId": "be095ef9-c386-47a6-f79e-4fe23d4e235b"
      },
      "outputs": [
        {
          "output_type": "stream",
          "name": "stdout",
          "text": [
            "Welcome to the Machine Learning and Data Scientist course\n"
          ]
        }
      ],
      "source": [
        "print(\"Welcome to the Machine Learning and Data Scientist course\")"
      ]
    },
    {
      "cell_type": "code",
      "source": [
        "nombre = input(\"Enter your name: \")\n"
      ],
      "metadata": {
        "colab": {
          "base_uri": "https://localhost:8080/"
        },
        "id": "2x5Tqc9YQs9-",
        "outputId": "96faaa22-4c22-4180-895e-03680f974a29"
      },
      "execution_count": 13,
      "outputs": [
        {
          "name": "stdout",
          "output_type": "stream",
          "text": [
            "Enter your name: bely jhoon chauque molina\n"
          ]
        }
      ]
    },
    {
      "source": [
        "\n",
        "print(f\"Welcome, {nombre.upper()}, You have been selected to participate in our course.\")"
      ],
      "cell_type": "code",
      "metadata": {
        "colab": {
          "base_uri": "https://localhost:8080/"
        },
        "id": "XymwhRTeSY6g",
        "outputId": "6678b54a-e70c-4fdd-aa35-bfec7b6814de"
      },
      "execution_count": 14,
      "outputs": [
        {
          "output_type": "stream",
          "name": "stdout",
          "text": [
            "Welcome, BELY JHOON CHAUQUE MOLINA, You have been selected to participate in our course.\n"
          ]
        }
      ]
    }
  ]
}