{
 "cells": [
  {
   "cell_type": "markdown",
   "id": "e83bdd26-7b05-4ab3-b56e-c958919c0655",
   "metadata": {},
   "source": [
    "Sample Text\n",
    "Sample Text"
   ]
  },
  {
   "cell_type": "markdown",
   "id": "994eff2c-e8d0-4e51-b99b-825b9c28d50a",
   "metadata": {},
   "source": [
    "# Title1"
   ]
  },
  {
   "cell_type": "markdown",
   "id": "624ccbb6-abf7-4cbd-9c14-bbf6b3ccfc84",
   "metadata": {},
   "source": [
    "## Title3"
   ]
  },
  {
   "cell_type": "markdown",
   "id": "9ccaadb9-7e45-4704-ae25-336c934c1a66",
   "metadata": {},
   "source": [
    "Sample Text  \n",
    "Sample Text"
   ]
  },
  {
   "cell_type": "markdown",
   "id": "782faafa-5007-473a-b53e-cb5a584208d1",
   "metadata": {},
   "source": [
    "This is **Markdown Samples**"
   ]
  },
  {
   "cell_type": "markdown",
   "id": "0b8cca51-c6a9-4315-ae5d-4669fc75541f",
   "metadata": {},
   "source": [
    "This is *Markdown Sample1*"
   ]
  },
  {
   "cell_type": "markdown",
   "id": "6f8b5d61-1416-4e0f-a116-661599e6abe1",
   "metadata": {},
   "source": [
    "> Sample1\n",
    "> Sample2"
   ]
  },
  {
   "cell_type": "markdown",
   "id": "7b9c5c6f-5859-410c-8582-ea5710e20650",
   "metadata": {},
   "source": [
    "-Orange\n",
    "-Apple\n",
    "-Mango"
   ]
  },
  {
   "cell_type": "markdown",
   "id": "bb853872-b2c7-4bd9-816f-88d1ad576227",
   "metadata": {},
   "source": [
    "- Orange\n",
    "- Apple\n",
    "- Mango"
   ]
  },
  {
   "cell_type": "markdown",
   "id": "be25deb3-ea55-46ac-ae46-971e19dcf4ae",
   "metadata": {},
   "source": [
    "1. Fruits\n",
    "    1. Mango\n",
    "    2. Banana\n",
    "2. Vegetales\n",
    "    1. Tomato\n",
    "    2. Brocoli"
   ]
  },
  {
   "cell_type": "markdown",
   "id": "f6178b38-f5b1-486d-b89d-0ddba6a4ed09",
   "metadata": {},
   "source": [
    "`<h1>Saple Code</h1>`"
   ]
  },
  {
   "cell_type": "markdown",
   "id": "ac375bfc-fbcb-4f64-a5bd-cc567aedfd6b",
   "metadata": {},
   "source": [
    "```\n",
    "def add(a, b):\n",
    "    if a == 0:\n",
    "        return a\n",
    "    return a + b\n",
    "\n",
    "    print(add(2,2))\n",
    "```"
   ]
  },
  {
   "cell_type": "markdown",
   "id": "55ca2c04-b281-4f7b-8272-78002c81b867",
   "metadata": {},
   "source": [
    "Para saber más sobre Markdown, consulte la [Google](https://www.google.com.bo)."
   ]
  },
  {
   "cell_type": "code",
   "execution_count": null,
   "id": "584569dc-b9a0-4f23-bf80-49e63140f9ce",
   "metadata": {},
   "outputs": [],
   "source": []
  }
 ],
 "metadata": {
  "kernelspec": {
   "display_name": "Python 3 (ipykernel)",
   "language": "python",
   "name": "python3"
  },
  "language_info": {
   "codemirror_mode": {
    "name": "ipython",
    "version": 3
   },
   "file_extension": ".py",
   "mimetype": "text/x-python",
   "name": "python",
   "nbconvert_exporter": "python",
   "pygments_lexer": "ipython3",
   "version": "3.12.6"
  }
 },
 "nbformat": 4,
 "nbformat_minor": 5
}
